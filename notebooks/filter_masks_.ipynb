{
 "cells": [
  {
   "cell_type": "code",
   "execution_count": 1,
   "id": "85d5eb40-b0f5-48e4-8a96-97a7a2de49da",
   "metadata": {
    "tags": []
   },
   "outputs": [],
   "source": [
    "import os\n",
    "\n",
    "os.environ[\"CV_IO_MAX_IMAGE_PIXELS\"] = f\"{2**99}\"\n",
    "os.environ[\"OPENCV_IO_MAX_IMAGE_PIXELS\"] = f\"{2**63}\"\n",
    "\n",
    "import numpy as np\n",
    "import matplotlib.pyplot as plt\n",
    "import json\n",
    "import cv2\n",
    "import tiffslide"
   ]
  },
  {
   "cell_type": "code",
   "execution_count": 2,
   "id": "67ec115f-c156-4fa5-bda1-36881fded902",
   "metadata": {
    "tags": []
   },
   "outputs": [],
   "source": [
    "def get_binary_mask(wsi_path, annotations_path):\n",
    "    with open(annotations_path) as f:\n",
    "        annotations = json.load(f)\n",
    "    # Load the WSI file\n",
    "    slide = tiffslide.open_slide(wsi_path)\n",
    "    dimensions = slide.dimensions\n",
    "    width, height = dimensions\n",
    "    \n",
    "    binary_mask = np.zeros((height, width), dtype=np.uint8)\n",
    "    if \"annotation\" in annotations:\n",
    "        elements = annotations['annotation']['elements']\n",
    "    else:\n",
    "        elements = annotations[0]['elements']\n",
    "    for element in elements:\n",
    "        if element['type'] == 'polyline':\n",
    "            points = element['points']\n",
    "            # print(len(points[0]))\n",
    "            if element['closed'] and len(points) > 0 and len(points[0]) == 3:\n",
    "                points = np.array(points, dtype=np.int32)\n",
    "                # Ensure the points are in the correct shape (N, 1, 2)\n",
    "                points = np.array([[p[0], p[1]] for p in points], dtype=np.int32)\n",
    "                points = points.reshape((-1, 1, 2))\n",
    "                contours = [points]\n",
    "                cv2.drawContours(binary_mask, contours, -1, color=255, thickness=cv2.FILLED)  # Draw the filled contour\n",
    "\n",
    "    slide.close()\n",
    "    # print('Done!')\n",
    "    return binary_mask\n",
    "    "
   ]
  },
  {
   "cell_type": "code",
   "execution_count": null,
   "id": "ca833e77-5ecd-4104-b9d1-74d380ce347a",
   "metadata": {
    "tags": []
   },
   "outputs": [
    {
     "name": "stdout",
     "output_type": "stream",
     "text": [
      "['S-2103-004857_PAS_2of2.svs', 'S-2106-003588_PAS_1of2.svs', 'S-2001-005357_PAS_1of2.svs', 'S-1904-007293_PAS_1of2.svs', 'S-1910-000089_PAS_2of2.svs', 'S-1905-018731_PAS_2of2.svs', '18-162_PAS_4of6.svs', 'S-1909-007149_PAS_1of2.svs', 'S-1905-017738_PAS_1of2.svs', 'S-1908-010066_PAS_1of2.svs']\n",
      "Processing image - S-2103-004857_PAS_2of2\n",
      "Generating binary masks\n",
      "performing distancec transform\n"
     ]
    }
   ],
   "source": [
    "\n",
    "\n",
    "WSI_images_dir = \"/blue/pinaki.sarder/manojkumargalla/PostProcess/data/WSIs/\"\n",
    "tbm_annotations_dir = '/blue/pinaki.sarder/manojkumargalla/PostProcess/data/TBM_Annotations/'\n",
    "tubules_annotations_dir = '/blue/pinaki.sarder/manojkumargalla/PostProcess/data/Tubule_Annotations/'\n",
    "filtered_wsi_dir = '/blue/pinaki.sarder/manojkumargalla/PostProcess/data/Filtered_WSI_images/'\n",
    "\n",
    "WSI_images = os.listdir(WSI_images_dir)\n",
    "print(WSI_images)\n",
    "\n",
    "\n",
    "for wsi in WSI_images:\n",
    "    wsi_path = os.path.join(WSI_images_dir, wsi)\n",
    "    wsi_name = str(wsi.split('.')[0])\n",
    "    print(f'Processing image - {wsi_name}')\n",
    "    tbm_annotations_path = os.path.join(tbm_annotations_dir, f'{wsi_name}_tbm_jul18.json')\n",
    "    tubules_annotations_path = os.path.join(tubules_annotations_dir, f'{wsi_name}.json')\n",
    "    print('Generating binary masks')\n",
    "    binary_mask_of_tubules = get_binary_mask(wsi_path, tubules_annotations_path)\n",
    "    binary_mask_of_tbms = get_binary_mask(wsi_path, tbm_annotations_path)\n",
    "    print('performing distancec transform')\n",
    "    distance_transform = cv2.distanceTransform(binary_mask_of_tubules, cv2.DIST_L2, 5)\n",
    "    inverse_binary_mask = 255 - binary_mask_of_tubules\n",
    "    inverse_distance_transform = cv2.distanceTransform(inverse_binary_mask, cv2.DIST_L2, 5)\n",
    "    distance_map = distance_transform - inverse_distance_transform\n",
    "    threshold = 25\n",
    "    mask = np.abs(distance_map) < threshold\n",
    "    # Convert boolean mask to binary (0 and 255)\n",
    "    threshInv = np.where(mask, 255, 0).astype(np.uint8)\n",
    "    product = threshInv * binary_mask_of_tbms\n",
    "    print(f'Saving filtered image - {wsi_name}')\n",
    "    filtered_image_path = os.path.join(filtered_wsi_dir, f'{wsi_name}.png')\n",
    "    cv2.imwrite(filtered_image_path, 255*product)\n",
    "    print(f'Succesfully filtered image - {wsi_image}')\n",
    "        \n",
    "    "
   ]
  },
  {
   "cell_type": "code",
   "execution_count": null,
   "id": "062328d3-c14b-48df-877c-2f1d0efbb33c",
   "metadata": {},
   "outputs": [
    {
     "name": "stdout",
     "output_type": "stream",
     "text": [
      "['S-2103-004857_PAS_2of2.svs', 'S-2106-003588_PAS_1of2.svs', 'S-2001-005357_PAS_1of2.svs', 'S-1904-007293_PAS_1of2.svs', 'S-1910-000089_PAS_2of2.svs', 'S-1905-018731_PAS_2of2.svs', '18-162_PAS_4of6.svs', 'S-1909-007149_PAS_1of2.svs', 'S-1905-017738_PAS_1of2.svs', 'S-1908-010066_PAS_1of2.svs']\n",
      "Processing image - S-2103-004857_PAS_2of2\n",
      "Generating binary masks\n",
      "Processing image - S-2106-003588_PAS_1of2\n",
      "Generating binary masks\n",
      "Processing image - S-2001-005357_PAS_1of2\n",
      "Generating binary masks\n",
      "Processing image - S-1904-007293_PAS_1of2\n",
      "Generating binary masks\n",
      "performing distance transform\n",
      "performing distance transform\n",
      "performing distance transform\n",
      "performing distance transform\n"
     ]
    }
   ],
   "source": [
    "\n",
    "from concurrent.futures import ThreadPoolExecutor\n",
    "\n",
    "def process_image(wsi, WSI_images_dir, tbm_annotations_dir, tubules_annotations_dir, filtered_wsi_dir):\n",
    "    wsi_path = os.path.join(WSI_images_dir, wsi)\n",
    "    wsi_name = str(wsi.split('.')[0])\n",
    "    print(f'Processing image - {wsi_name}')\n",
    "    tbm_annotations_path = os.path.join(tbm_annotations_dir, f'{wsi_name}_tbm_jul18.json')\n",
    "    tubules_annotations_path = os.path.join(tubules_annotations_dir, f'{wsi_name}.json')\n",
    "    print('Generating binary masks')\n",
    "    binary_mask_of_tubules = get_binary_mask(wsi_path, tubules_annotations_path)\n",
    "    binary_mask_of_tbms = get_binary_mask(wsi_path, tbm_annotations_path)\n",
    "    print('performing distance transform')\n",
    "    distance_transform = cv2.distanceTransform(binary_mask_of_tubules, cv2.DIST_L2, 5)\n",
    "    inverse_binary_mask = 255 - binary_mask_of_tubules\n",
    "    inverse_distance_transform = cv2.distanceTransform(inverse_binary_mask, cv2.DIST_L2, 5)\n",
    "    distance_map = distance_transform - inverse_distance_transform\n",
    "    threshold = 25\n",
    "    mask = np.abs(distance_map) < threshold\n",
    "    # Convert boolean mask to binary (0 and 255)\n",
    "    threshInv = np.where(mask, 255, 0).astype(np.uint8)\n",
    "    product = threshInv * binary_mask_of_tbms\n",
    "    print(f'Saving filtered image - {wsi_name}')\n",
    "    filtered_image_path = os.path.join(filtered_wsi_dir, f'{wsi_name}.png')\n",
    "    cv2.imwrite(filtered_image_path, 255 * product)\n",
    "    print(f'Successfully filtered image - {wsi_name}')\n",
    "\n",
    "def process_images():\n",
    "    WSI_images_dir = \"/blue/pinaki.sarder/manojkumargalla/PostProcess/data/WSIs/\"\n",
    "    tbm_annotations_dir = '/blue/pinaki.sarder/manojkumargalla/PostProcess/data/TBM_Annotations/'\n",
    "    tubules_annotations_dir = '/blue/pinaki.sarder/manojkumargalla/PostProcess/data/Tubule_Annotations/'\n",
    "    filtered_wsi_dir = '/blue/pinaki.sarder/manojkumargalla/PostProcess/data/Filtered_WSI_images/'\n",
    "\n",
    "    WSI_images = os.listdir(WSI_images_dir)\n",
    "    print(WSI_images)\n",
    "\n",
    "    with ThreadPoolExecutor(max_workers=4) as executor:\n",
    "        futures = [executor.submit(process_image, wsi, WSI_images_dir, tbm_annotations_dir, tubules_annotations_dir, filtered_wsi_dir) for wsi in WSI_images]\n",
    "        for future in futures:\n",
    "            future.result()  # This will raise exceptions if any\n",
    "\n",
    "process_images()\n"
   ]
  },
  {
   "cell_type": "code",
   "execution_count": null,
   "id": "7de95513-f2a1-467a-8769-99b83feb1a77",
   "metadata": {},
   "outputs": [],
   "source": []
  }
 ],
 "metadata": {
  "kernelspec": {
   "display_name": "resn",
   "language": "python",
   "name": "resn"
  },
  "language_info": {
   "codemirror_mode": {
    "name": "ipython",
    "version": 3
   },
   "file_extension": ".py",
   "mimetype": "text/x-python",
   "name": "python",
   "nbconvert_exporter": "python",
   "pygments_lexer": "ipython3",
   "version": "3.8.19"
  }
 },
 "nbformat": 4,
 "nbformat_minor": 5
}
