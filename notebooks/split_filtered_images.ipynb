{
 "cells": [
  {
   "cell_type": "code",
   "execution_count": null,
   "id": "614f213a-264b-4df2-84f9-b26d9deb6582",
   "metadata": {},
   "outputs": [],
   "source": [
    "from PIL import Image, ImageFilter\n",
    "import os\n",
    "import glob\n",
    "import numpy as np\n",
    "Image.MAX_IMAGE_PIXELS = None\n",
    "def makeDir(mydir):\n",
    "    if not os.path.exists(mydir):\n",
    "        os.mkdir(mydir)\n",
    "\n",
    "tileSize = 512\n",
    "outdirbase = f\"/blue/pinaki.sarder/manojkumargalla/filtered_image_tiles/\"\n",
    "makeDir(outdirbase)\n",
    "\n",
    "# # Read large PNG image\n",
    "# datadir = \"/home/manojkumargalla/ResUNet/data/main_images_jul_15/\"\n",
    "# files = glob.glob(f\"{datadir}/*.png\")\n",
    "files = ['/blue/pinaki.sarder/manojkumargalla/filtered_image_thresh10.png']\n",
    "for fid in range(len(files)):\n",
    "    filename = files[fid].split('/')[-1].replace('.png', '')\n",
    "    try:\n",
    "        image = Image.open(files[fid])\n",
    "        nx, ny = image.size\n",
    "\n",
    "        print(f'Processing file name: {filename} nx: {nx}    ny: {ny}')\n",
    "        \n",
    "        # Extract Binary\n",
    "        # threshold = 200\n",
    "        # binary = image.convert('L').point(lambda p: 255 if p < threshold else 0)\n",
    "        binary = image.convert('L')\n",
    "        binarynb = np.array(binary)\n",
    "        # print('converted image')\n",
    "        # binary = binary.filter(ImageFilter.MedianFilter(size=29))\n",
    "        # print('fitered image')\n",
    "        # binarynb = np.array(binary)\n",
    "        \n",
    "        # binarynb = np.load('/blue/pinaki.sarder/manojkumargalla/npy_files/product_thresh10.npy')\n",
    "\n",
    "        outdirSlide = f\"{outdirbase}/{filename}\"\n",
    "        makeDir(outdirSlide)\n",
    "        print('Starting for loop')\n",
    "        for ix in range(nx // tileSize):\n",
    "            if ix % 10 == 0:\n",
    "                print(f\"ix: {ix}/{nx // tileSize}\")\n",
    "            for iy in range(ny // tileSize):\n",
    "                xxx = int(ix * tileSize)\n",
    "                yyy = int(iy * tileSize)\n",
    "                slice_contains_255 = np.any(binarynb[yyy:yyy+tileSize, xxx:xxx+tileSize] == 1)\n",
    "                if slice_contains_255:\n",
    "                    x = tileSize * ix\n",
    "                    y = tileSize * iy\n",
    "\n",
    "                    tile = image.crop((x, y, x + tileSize, y + tileSize))\n",
    "                    print(f'saving tile {outdirSlide}/{str(nx)}_{str(ny)}_{str(x).zfill(5)}x_{str(y).zfill(5)}y.png')\n",
    "                    tile.save(f\"{outdirSlide}/{str(nx)}_{str(ny)}_{str(x).zfill(5)}x_{str(y).zfill(5)}y.png\")\n",
    "    except Exception as e:\n",
    "        print(f'Exception while processing file name: {filename} - {str(e)}')\n"
   ]
  },
  {
   "cell_type": "code",
   "execution_count": null,
   "id": "602e4bc0-62b6-4745-8438-dada780a7ee2",
   "metadata": {},
   "outputs": [],
   "source": []
  }
 ],
 "metadata": {
  "kernelspec": {
   "display_name": "resn",
   "language": "python",
   "name": "resn"
  },
  "language_info": {
   "codemirror_mode": {
    "name": "ipython",
    "version": 3
   },
   "file_extension": ".py",
   "mimetype": "text/x-python",
   "name": "python",
   "nbconvert_exporter": "python",
   "pygments_lexer": "ipython3",
   "version": "3.8.19"
  }
 },
 "nbformat": 4,
 "nbformat_minor": 5
}
