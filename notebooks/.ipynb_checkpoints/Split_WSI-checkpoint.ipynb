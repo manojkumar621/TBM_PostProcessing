{
 "cells": [
  {
   "cell_type": "code",
   "execution_count": null,
   "metadata": {},
   "outputs": [],
   "source": [
    "# import timm\n",
    "from PIL import Image, ImageFilter\n",
    "# from torchvision import transforms\n",
    "# import torch\n",
    "import tiffslide\n",
    "import os\n",
    "import glob\n",
    "import numpy as np\n",
    " \n",
    "def makeDir(mydir):\n",
    "    if not os.path.exists(mydir):\n",
    "        os.mkdir(mydir)\n",
    " \n",
    "tileSize = 512\n",
    " \n",
    "outdirbase = f\"/blue/pinaki.sarder/manojkumargalla/PostProcess/data/WSI_tiles_newmodel/\"\n",
    " \n",
    "makeDir(outdirbase)\n",
    " \n",
    "# read slide\n",
    "datadir = \"/blue/pinaki.sarder/manojkumargalla/PostProcess/data/pilot_wsis/\"\n",
    " \n",
    "files = glob.glob(f\"{datadir}/*.svs\")\n",
    " \n",
    " \n",
    "for fid in range(len(files)): # range(len(files)):\n",
    "    filename = files[fid].split('/')[-1].replace('.svs', '')\n",
    "    try:\n",
    "        slide = tiffslide.open_slide(files[fid])\n",
    " \n",
    "        nx, ny = slide.level_dimensions[0]\n",
    " \n",
    "        ds = int(slide.level_downsamples[slide.level_count-1])\n",
    " \n",
    "        print(f'Processing file name: {filename} nx: {nx}    ny: {ny}       downsample: {ds}')\n",
    "        # Extract Binary\n",
    "        threshold = 200\n",
    "        region = slide.read_region((0, 0), slide.level_count-1, slide.level_dimensions[slide.level_count-1])\n",
    "        binary = region.convert('L').point( lambda p: 255 if p < threshold else 0 )\n",
    "        binary = binary.filter(ImageFilter.MedianFilter(size = 29))\n",
    "        binarynb = np.array(binary)\n",
    " \n",
    "        '''\n",
    "        print(np.min(binarynb))\n",
    "        print(np.max(binarynb))\n",
    "        print(binarynb.shape)\n",
    "        '''\n",
    "        outdirSlide = f\"{outdirbase}/{filename}\"\n",
    "        makeDir(outdirSlide)\n",
    " \n",
    "        for ix in range(nx//tileSize):\n",
    "            if ix%10==0:\n",
    "                print(f\"ix: {ix}/{nx//tileSize}\")\n",
    "            for iy in range(ny//tileSize):\n",
    "                #print(f\"iy: {iy}\")\n",
    "                xxx = int((ix*tileSize)/ds)\n",
    "                yyy = int((iy*tileSize)/ds)\n",
    "                slice_contains_255 = np.any(binarynb[yyy:yyy+tileSize//ds, xxx:xxx+tileSize//ds] == 255)\n",
    "                if slice_contains_255:\n",
    "                    x = tileSize*ix\n",
    "                    y = tileSize*iy\n",
    " \n",
    "                    tile = slide.read_region((x, y), 0, (tileSize, tileSize))\n",
    " \n",
    "                    tile.save(f\"{outdirSlide}/{str(nx)}_{str(ny)}_{str(x).zfill(5)}x_{str(y).zfill(5)}y.png\")\n",
    "    except:\n",
    "        print(f'Exception while processing file name: {filename}')"
   ]
  },
  {
   "cell_type": "code",
   "execution_count": 1,
   "metadata": {},
   "outputs": [],
   "source": [
    "'''This cell uses python's multiprocessing library to parallelly process the splitting of images and uses cupy which is a Numpy-like library to enable GPU acceleration for image processing tasks'''\n",
    "import cupy as cp\n",
    "import multiprocessing as mp\n",
    "from PIL import Image, ImageFilter\n",
    "import tiffslide\n",
    "import os\n",
    "import glob\n",
    "import numpy as np\n",
    "\n",
    "def makeDir(mydir):\n",
    "    if not os.path.exists(mydir):\n",
    "        os.mkdir(mydir)\n",
    "\n",
    "def process_file(file):\n",
    "    filename = file.split('/')[-1].replace('.svs', '')\n",
    "    try:\n",
    "        slide = tiffslide.open_slide(file)\n",
    "        nx, ny = slide.level_dimensions[0]\n",
    "        ds = int(slide.level_downsamples[slide.level_count-1])\n",
    "        print('yes')\n",
    "        print(f'Processing file name: {filename} nx: {nx}    ny: {ny}       downsample: {ds}')\n",
    "        threshold = 200\n",
    "        region = slide.read_region((0, 0), slide.level_count-1, slide.level_dimensions[slide.level_count-1])\n",
    "        binary = region.convert('L').point(lambda p: 255 if p < threshold else 0)\n",
    "        binary = binary.filter(ImageFilter.MedianFilter(size=29))\n",
    "        binarynb = cp.array(binary)\n",
    "\n",
    "        outdirSlide = f\"{outdirbase}/{filename}\"\n",
    "        makeDir(outdirSlide)\n",
    "        c=0\n",
    "        for ix in range(nx // tileSize):\n",
    "            if ix % 10 == 0:\n",
    "                print(f\"ix: {ix}/{nx // tileSize}, saved {c} images!\")\n",
    "                c=0\n",
    "            for iy in range(ny // tileSize):\n",
    "                xxx = int((ix * tileSize) / ds)\n",
    "                yyy = int((iy * tileSize) / ds)\n",
    "                slice_contains_255 = np.any(binarynb[yyy:yyy+tileSize//ds, xxx:xxx+tileSize//ds] == 255)\n",
    "                # x = tileSize * ix\n",
    "                # y = tileSize * iy\n",
    "                # slice_region = binarynb[y:y + tileSize, y:y + tileSize]\n",
    "                if slice_contains_255:\n",
    "                # if cp.any(slice_region == 255):\n",
    "                    # print(f'This has ones!!! {filename}')\n",
    "                    # print(f'xxx for {filename} = {xxx} & yyy for {filename} = {yyy}')\n",
    "                    # return\n",
    "                    c+=1\n",
    "                    x = tileSize * ix\n",
    "                    y = tileSize * iy\n",
    "                    tile = slide.read_region((x, y), 0, (tileSize, tileSize))\n",
    "                    tile.save(f\"{outdirSlide}/{str(nx)}_{str(ny)}_{str(x).zfill(5)}x_{str(y).zfill(5)}y.png\")\n",
    "    except Exception as e:\n",
    "        print(f'Exception while processing file name: {filename} - {str(e)}')\n",
    "\n",
    "tileSize = 512\n",
    "outdirbase = f\"/blue/pinaki.sarder/manojkumargalla/PostProcess/data/WSI_tiles_newmodel\"\n",
    "makeDir(outdirbase)\n",
    "datadir = \"/blue/pinaki.sarder/manojkumargalla/PostProcess/data/pilot_wsis/\"\n",
    "files = glob.glob(f\"{datadir}/*.svs\")\n",
    "\n",
    "# Create a pool of workers and process files in parallel\n",
    "with mp.Pool(processes=mp.cpu_count()) as pool:\n",
    "    pool.map(process_file, files)\n"
   ]
  },
  {
   "cell_type": "code",
   "execution_count": null,
   "metadata": {},
   "outputs": [],
   "source": [
    "print('yes')"
   ]
  },
  {
   "cell_type": "code",
   "execution_count": null,
   "metadata": {},
   "outputs": [],
   "source": []
  },
  {
   "cell_type": "code",
   "execution_count": null,
   "metadata": {},
   "outputs": [],
   "source": []
  },
  {
   "cell_type": "code",
   "execution_count": null,
   "metadata": {},
   "outputs": [],
   "source": []
  },
  {
   "cell_type": "code",
   "execution_count": null,
   "metadata": {
    "tags": []
   },
   "outputs": [],
   "source": [
    "binary.shape"
   ]
  },
  {
   "cell_type": "code",
   "execution_count": null,
   "metadata": {},
   "outputs": [],
   "source": [
    "slide = tiffslide.open_slide('/blue/pinaki.sarder/manojkumargalla/PostProcess/data/WSIs/S-1909-007149_PAS_1of2.svs')"
   ]
  },
  {
   "cell_type": "code",
   "execution_count": null,
   "metadata": {},
   "outputs": [],
   "source": [
    "nx, ny = slide.level_dimensions[0]\n",
    " \n",
    "ds = int(slide.level_downsamples[slide.level_count-1])\n",
    "\n",
    "print(f'Processing file name: S-1909-007149_PAS_1of2.svs nx: {nx}    ny: {ny}       downsample: {ds}')\n",
    "# Extract Binary\n",
    "threshold = 200\n",
    "region = slide.read_region((0, 0), slide.level_count-1, slide.level_dimensions[slide.level_count-1])\n",
    "binary = region.convert('L').point( lambda p: 255 if p < threshold else 0 )\n",
    "binary = binary.filter(ImageFilter.MedianFilter(size = 29))\n",
    "binarynb = np.array(binary)"
   ]
  },
  {
   "cell_type": "code",
   "execution_count": null,
   "metadata": {},
   "outputs": [],
   "source": []
  },
  {
   "cell_type": "code",
   "execution_count": null,
   "metadata": {},
   "outputs": [],
   "source": []
  },
  {
   "cell_type": "code",
   "execution_count": null,
   "metadata": {},
   "outputs": [],
   "source": []
  },
  {
   "cell_type": "code",
   "execution_count": null,
   "metadata": {
    "tags": []
   },
   "outputs": [],
   "source": [
    "import cv2"
   ]
  },
  {
   "cell_type": "code",
   "execution_count": null,
   "metadata": {},
   "outputs": [],
   "source": [
    "cv2.imwrite('/home/manojkumargalla/test_binary.png', binarynb[0:512, 0:512])"
   ]
  },
  {
   "cell_type": "code",
   "execution_count": null,
   "metadata": {
    "tags": []
   },
   "outputs": [],
   "source": [
    "binarynb.shape"
   ]
  },
  {
   "cell_type": "code",
   "execution_count": null,
   "metadata": {
    "tags": []
   },
   "outputs": [],
   "source": [
    "plt.figure(figsize=(48, 48))\n",
    "plt.subplot(3,1,1)\n",
    "plt.imshow(binarynb[0:512, 0:512], cmap='gray')"
   ]
  },
  {
   "cell_type": "code",
   "execution_count": null,
   "metadata": {
    "tags": []
   },
   "outputs": [],
   "source": [
    "tile = slide.read_region((0, 0), 0, (512, 512))"
   ]
  },
  {
   "cell_type": "code",
   "execution_count": null,
   "metadata": {
    "tags": []
   },
   "outputs": [],
   "source": [
    "plt.figure(figsize=(48, 48))\n",
    "plt.subplot(3,1,1)\n",
    "plt.imshow(tile, cmap='gray')"
   ]
  },
  {
   "cell_type": "code",
   "execution_count": null,
   "metadata": {},
   "outputs": [],
   "source": [
    "import matplotlib.pyplot as plt"
   ]
  },
  {
   "cell_type": "code",
   "execution_count": null,
   "metadata": {},
   "outputs": [],
   "source": [
    "plt.hist(binarynb[0:512, 0:512].ravel(), bins=10)\n",
    "plt.title(\"Histogram of binarynb\")\n",
    "plt.xlabel(\"Distance\")\n",
    "plt.ylabel(\"Frequency\")\n",
    "plt.show()"
   ]
  },
  {
   "cell_type": "code",
   "execution_count": null,
   "metadata": {},
   "outputs": [],
   "source": []
  },
  {
   "cell_type": "code",
   "execution_count": null,
   "metadata": {},
   "outputs": [],
   "source": []
  },
  {
   "cell_type": "code",
   "execution_count": null,
   "metadata": {},
   "outputs": [],
   "source": []
  }
 ],
 "metadata": {
  "kernelspec": {
   "display_name": "resn",
   "language": "python",
   "name": "resn"
  },
  "language_info": {
   "codemirror_mode": {
    "name": "ipython",
    "version": 3
   },
   "file_extension": ".py",
   "mimetype": "text/x-python",
   "name": "python",
   "nbconvert_exporter": "python",
   "pygments_lexer": "ipython3",
   "version": "3.8.19"
  }
 },
 "nbformat": 4,
 "nbformat_minor": 4
}
